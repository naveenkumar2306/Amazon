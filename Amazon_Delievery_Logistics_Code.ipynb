{
  "nbformat": 4,
  "nbformat_minor": 0,
  "metadata": {
    "colab": {
      "name": "Amazon Delievery Logistics Code.ipynb",
      "provenance": [],
      "collapsed_sections": [],
      "include_colab_link": true
    },
    "kernelspec": {
      "name": "python3",
      "display_name": "Python 3"
    },
    "language_info": {
      "name": "python"
    },
    "widgets": {
      "application/vnd.jupyter.widget-state+json": {
        "8cb2173ee7004e49a180a5446f64da5f": {
          "model_module": "@jupyter-widgets/controls",
          "model_name": "HBoxModel",
          "model_module_version": "1.5.0",
          "state": {
            "_view_name": "HBoxView",
            "_dom_classes": [],
            "_model_name": "HBoxModel",
            "_view_module": "@jupyter-widgets/controls",
            "_model_module_version": "1.5.0",
            "_view_count": null,
            "_view_module_version": "1.5.0",
            "box_style": "",
            "layout": "IPY_MODEL_676ea741ab6743d1888fac0079280070",
            "_model_module": "@jupyter-widgets/controls",
            "children": [
              "IPY_MODEL_0f466adb3c9c40e9aa91dbb4d377446d",
              "IPY_MODEL_af21ba98ed2d430481a4be9ff283f167"
            ]
          }
        },
        "676ea741ab6743d1888fac0079280070": {
          "model_module": "@jupyter-widgets/base",
          "model_name": "LayoutModel",
          "model_module_version": "1.2.0",
          "state": {
            "_view_name": "LayoutView",
            "grid_template_rows": null,
            "right": null,
            "justify_content": null,
            "_view_module": "@jupyter-widgets/base",
            "overflow": null,
            "_model_module_version": "1.2.0",
            "_view_count": null,
            "flex_flow": null,
            "width": null,
            "min_width": null,
            "border": null,
            "align_items": null,
            "bottom": null,
            "_model_module": "@jupyter-widgets/base",
            "top": null,
            "grid_column": null,
            "overflow_y": null,
            "overflow_x": null,
            "grid_auto_flow": null,
            "grid_area": null,
            "grid_template_columns": null,
            "flex": null,
            "_model_name": "LayoutModel",
            "justify_items": null,
            "grid_row": null,
            "max_height": null,
            "align_content": null,
            "visibility": null,
            "align_self": null,
            "height": null,
            "min_height": null,
            "padding": null,
            "grid_auto_rows": null,
            "grid_gap": null,
            "max_width": null,
            "order": null,
            "_view_module_version": "1.2.0",
            "grid_template_areas": null,
            "object_position": null,
            "object_fit": null,
            "grid_auto_columns": null,
            "margin": null,
            "display": null,
            "left": null
          }
        },
        "0f466adb3c9c40e9aa91dbb4d377446d": {
          "model_module": "@jupyter-widgets/controls",
          "model_name": "FloatProgressModel",
          "model_module_version": "1.5.0",
          "state": {
            "_view_name": "ProgressView",
            "style": "IPY_MODEL_fac7403b36274a1f9f36f1580bf24632",
            "_dom_classes": [],
            "description": "Searching suitable solution: 100%",
            "_model_name": "FloatProgressModel",
            "bar_style": "success",
            "max": 300,
            "_view_module": "@jupyter-widgets/controls",
            "_model_module_version": "1.5.0",
            "value": 300,
            "_view_count": null,
            "_view_module_version": "1.5.0",
            "orientation": "horizontal",
            "min": 0,
            "description_tooltip": null,
            "_model_module": "@jupyter-widgets/controls",
            "layout": "IPY_MODEL_4f0df5fbf3584fd7bd36f2918ebe083f"
          }
        },
        "af21ba98ed2d430481a4be9ff283f167": {
          "model_module": "@jupyter-widgets/controls",
          "model_name": "HTMLModel",
          "model_module_version": "1.5.0",
          "state": {
            "_view_name": "HTMLView",
            "style": "IPY_MODEL_cd43d514ee8f4484a6e6bc14b316bf1b",
            "_dom_classes": [],
            "description": "",
            "_model_name": "HTMLModel",
            "placeholder": "​",
            "_view_module": "@jupyter-widgets/controls",
            "_model_module_version": "1.5.0",
            "value": " 300/300 [00:21&lt;00:00, 13.98it/s]",
            "_view_count": null,
            "_view_module_version": "1.5.0",
            "description_tooltip": null,
            "_model_module": "@jupyter-widgets/controls",
            "layout": "IPY_MODEL_03e6e5c3df23450d8532f1a2e63a184a"
          }
        },
        "fac7403b36274a1f9f36f1580bf24632": {
          "model_module": "@jupyter-widgets/controls",
          "model_name": "ProgressStyleModel",
          "model_module_version": "1.5.0",
          "state": {
            "_view_name": "StyleView",
            "_model_name": "ProgressStyleModel",
            "description_width": "initial",
            "_view_module": "@jupyter-widgets/base",
            "_model_module_version": "1.5.0",
            "_view_count": null,
            "_view_module_version": "1.2.0",
            "bar_color": null,
            "_model_module": "@jupyter-widgets/controls"
          }
        },
        "4f0df5fbf3584fd7bd36f2918ebe083f": {
          "model_module": "@jupyter-widgets/base",
          "model_name": "LayoutModel",
          "model_module_version": "1.2.0",
          "state": {
            "_view_name": "LayoutView",
            "grid_template_rows": null,
            "right": null,
            "justify_content": null,
            "_view_module": "@jupyter-widgets/base",
            "overflow": null,
            "_model_module_version": "1.2.0",
            "_view_count": null,
            "flex_flow": null,
            "width": null,
            "min_width": null,
            "border": null,
            "align_items": null,
            "bottom": null,
            "_model_module": "@jupyter-widgets/base",
            "top": null,
            "grid_column": null,
            "overflow_y": null,
            "overflow_x": null,
            "grid_auto_flow": null,
            "grid_area": null,
            "grid_template_columns": null,
            "flex": null,
            "_model_name": "LayoutModel",
            "justify_items": null,
            "grid_row": null,
            "max_height": null,
            "align_content": null,
            "visibility": null,
            "align_self": null,
            "height": null,
            "min_height": null,
            "padding": null,
            "grid_auto_rows": null,
            "grid_gap": null,
            "max_width": null,
            "order": null,
            "_view_module_version": "1.2.0",
            "grid_template_areas": null,
            "object_position": null,
            "object_fit": null,
            "grid_auto_columns": null,
            "margin": null,
            "display": null,
            "left": null
          }
        },
        "cd43d514ee8f4484a6e6bc14b316bf1b": {
          "model_module": "@jupyter-widgets/controls",
          "model_name": "DescriptionStyleModel",
          "model_module_version": "1.5.0",
          "state": {
            "_view_name": "StyleView",
            "_model_name": "DescriptionStyleModel",
            "description_width": "",
            "_view_module": "@jupyter-widgets/base",
            "_model_module_version": "1.5.0",
            "_view_count": null,
            "_view_module_version": "1.2.0",
            "_model_module": "@jupyter-widgets/controls"
          }
        },
        "03e6e5c3df23450d8532f1a2e63a184a": {
          "model_module": "@jupyter-widgets/base",
          "model_name": "LayoutModel",
          "model_module_version": "1.2.0",
          "state": {
            "_view_name": "LayoutView",
            "grid_template_rows": null,
            "right": null,
            "justify_content": null,
            "_view_module": "@jupyter-widgets/base",
            "overflow": null,
            "_model_module_version": "1.2.0",
            "_view_count": null,
            "flex_flow": null,
            "width": null,
            "min_width": null,
            "border": null,
            "align_items": null,
            "bottom": null,
            "_model_module": "@jupyter-widgets/base",
            "top": null,
            "grid_column": null,
            "overflow_y": null,
            "overflow_x": null,
            "grid_auto_flow": null,
            "grid_area": null,
            "grid_template_columns": null,
            "flex": null,
            "_model_name": "LayoutModel",
            "justify_items": null,
            "grid_row": null,
            "max_height": null,
            "align_content": null,
            "visibility": null,
            "align_self": null,
            "height": null,
            "min_height": null,
            "padding": null,
            "grid_auto_rows": null,
            "grid_gap": null,
            "max_width": null,
            "order": null,
            "_view_module_version": "1.2.0",
            "grid_template_areas": null,
            "object_position": null,
            "object_fit": null,
            "grid_auto_columns": null,
            "margin": null,
            "display": null,
            "left": null
          }
        }
      }
    }
  },
  "cells": [
    {
      "cell_type": "markdown",
      "metadata": {
        "id": "view-in-github",
        "colab_type": "text"
      },
      "source": [
        "<a href=\"https://colab.research.google.com/github/naveenkumar2306/Amazon/blob/main/Amazon_Delievery_Logistics_Code.ipynb\" target=\"_parent\"><img src=\"https://colab.research.google.com/assets/colab-badge.svg\" alt=\"Open In Colab\"/></a>"
      ]
    },
    {
      "cell_type": "markdown",
      "metadata": {
        "id": "9gMzr-Sy_sWs"
      },
      "source": [
        "# Importing libraries"
      ]
    },
    {
      "cell_type": "markdown",
      "metadata": {
        "id": "Yti2Nt66fK0m"
      },
      "source": [
        "# Code for Cities and Routes and Showing Maps"
      ]
    },
    {
      "cell_type": "code",
      "metadata": {
        "id": "f4C4F6rXfQuR"
      },
      "source": [
        "from google.colab.patches import cv2_imshow\n",
        "\n",
        "class City:\n",
        "    def __init__(self, x, y):\n",
        "        self.x = x\n",
        "        self.y = y\n",
        "    \n",
        "    def coordinate(self):\n",
        "        return (self.x, self.y)\n",
        "    \n",
        "    def __rshift__(self, city):\n",
        "        xDis = abs(self.x - city.x)\n",
        "        yDis = abs(self.y - city.y)\n",
        "        distance = np.sqrt((xDis ** 2) + (yDis ** 2))\n",
        "        return distance\n",
        "    \n",
        "    def __lshift__(self, city):\n",
        "        xDis = abs(self.x - city.x)\n",
        "        yDis = abs(self.y - city.y)\n",
        "        distance = np.sqrt((xDis ** 2) + (yDis ** 2))\n",
        "        return distance\n",
        "    \n",
        "    def __repr__(self):\n",
        "        return \"(\" + str(self.x) + \",\" + str(self.y) + \")\"\n",
        "\n",
        "class Route(list):\n",
        "    def __init__(self):\n",
        "        self.fitness = 0\n",
        "        self.distance = 0\n",
        "    \n",
        "    def __init__(self, list:list):\n",
        "        self.fitness = 0\n",
        "        self.distance = 0\n",
        "        for city in list:\n",
        "            self.append(city)\n",
        "    \n",
        "    def append(self, city: City):\n",
        "        if super().__len__() != 0: #checking route has some length\n",
        "            self.distance += super().__getitem__(-1) >> city #finding distance between cities\n",
        "        super().append(city)\n",
        "    \n",
        "    def __getitem__(self, sliced):\n",
        "        return super().__getitem__(sliced)   # to slice out cities\n",
        "    \n",
        "    def __len__(self):\n",
        "        return super().__len__()\n",
        "    \n",
        "    def calculate_fitness(self):\n",
        "        self.fitness = 1 / float(self.distance)\n",
        "\n",
        "def show_map(cities, best_route=None, MAP_HEIGHT=500, MAP_WIDTH=500, file_name=None):\n",
        "    map = np.zeros((MAP_HEIGHT, MAP_WIDTH, 3), np.uint8)\n",
        "    banner = np.ones((50, MAP_WIDTH, 3), np.uint8) * 255\n",
        "    map = np.vstack([map, banner])\n",
        "    for city in cities:\n",
        "        cv2.circle(map, city.coordinate(), 5, (255,0,0), -1)\n",
        "    \n",
        "    if best_route != None: #\n",
        "        for i in range(0, len(best_route) - 1):\n",
        "            cv2.line(map, best_route[i].coordinate(), best_route[i+1].coordinate(), (255,255,255), 2, 0)\n",
        "        cv2.putText(map, 'Distance: {:.1f}'.format(best_route.distance), (0, MAP_HEIGHT+40), cv2.FONT_HERSHEY_SIMPLEX, 1, (0, 255, 0), 2, 1)\n",
        "\n",
        "    if file_name != None:\n",
        "      cv2.imwrite(file_name, map)\n",
        "    cv2_imshow(map)"
      ],
      "execution_count": null,
      "outputs": []
    },
    {
      "cell_type": "markdown",
      "metadata": {
        "id": "ycQt1v0Q_vL3"
      },
      "source": [
        "# Generating Random Cities"
      ]
    },
    {
      "cell_type": "code",
      "metadata": {
        "id": "UX3S6uEh28ka"
      },
      "source": [
        "MAX_CITIES = 30\n",
        "MAP_HEIGHT, MAP_WIDTH = 500, 500"
      ],
      "execution_count": null,
      "outputs": []
    },
    {
      "cell_type": "markdown",
      "metadata": {
        "id": "dpXUDi5C9XSf"
      },
      "source": [
        "How to create a city and use it"
      ]
    },
    {
      "cell_type": "code",
      "metadata": {
        "id": "OKcUsjRn3H2i"
      },
      "source": [
        "# Sample to create and use cities\n",
        "# create new cities with their coordinates\n",
        "city1 = City(0,0)\n",
        "city2 = City(10,10)\n",
        "city3 = City(5,20)"
      ],
      "execution_count": null,
      "outputs": []
    },
    {
      "cell_type": "code",
      "metadata": {
        "colab": {
          "base_uri": "https://localhost:8080/"
        },
        "id": "PkevFC3B3R6n",
        "outputId": "6fd1da82-07c8-40c6-f726-03ce4a6619c9"
      },
      "source": [
        "# calculate distance between cities\n",
        "# we can use << or >> to calculate distance between two cities\n",
        "distance1 = city1 << city2\n",
        "distance2 = city1 >> city2\n",
        "print('Distance from {} to {} is {}'.format(city2, city1, distance1))\n",
        "print('Distance from {} to {} is {}'.format(city1, city2, distance2))"
      ],
      "execution_count": null,
      "outputs": [
        {
          "output_type": "stream",
          "text": [
            "Distance from (10,10) to (0,0) is 14.142135623730951\n",
            "Distance from (0,0) to (10,10) is 14.142135623730951\n"
          ],
          "name": "stdout"
        }
      ]
    },
    {
      "cell_type": "code",
      "metadata": {
        "colab": {
          "base_uri": "https://localhost:8080/",
          "height": 567
        },
        "id": "7uhhgpqf3YKP",
        "outputId": "8ebe4d51-707e-4cfc-835f-6bdb91603dae"
      },
      "source": [
        "# Creating random cities within map \n",
        "def generate_cities():\n",
        "    return [ City(random.randrange(0, MAP_WIDTH),random.randrange(0, MAP_HEIGHT)) for _ in range(MAX_CITIES)]\n",
        "\n",
        "cities = generate_cities()\n",
        "\n",
        "# function to show map\n",
        "show_map(cities, MAP_HEIGHT=MAP_HEIGHT, MAP_WIDTH=MAP_WIDTH)"
      ],
      "execution_count": null,
      "outputs": [
        {
          "output_type": "display_data",
          "data": {
            "image/png": "[encoded data removed]",
            "text/plain": [
              "<PIL.Image.Image image mode=RGB size=500x550 at 0x7F48FEB063D0>"
            ]
          },
          "metadata": {
            "tags": []
          }
        }
      ]
    },
    {
      "cell_type": "markdown",
      "metadata": {
        "id": "rsJ_Bcf4KAs7"
      },
      "source": [
        "# Generate random generation"
      ]
    },
    {
      "cell_type": "code",
      "metadata": {
        "id": "d4HyG0_Z2qy_"
      },
      "source": [
        "import numpy as np\n",
        "import random\n",
        "import cv2\n",
        "import operator"
      ],
      "execution_count": null,
      "outputs": []
    },
    {
      "cell_type": "markdown",
      "metadata": {
        "id": "Yz0WqqL-9R4F"
      },
      "source": [
        "How to create Route and use it?"
      ]
    },
    {
      "cell_type": "code",
      "metadata": {
        "id": "nMslKK2fiHUv"
      },
      "source": [
        "class Route(list):\n",
        "    def __init__(self):\n",
        "        self.fitness = 0\n",
        "        self.distance = 0\n",
        "    \n",
        "    def __init__(self, list:list):\n",
        "        self.fitness = 0\n",
        "        self.distance = 0\n",
        "        for city in list:\n",
        "            self.append(city)\n",
        "    \n",
        "    def append(self, city: City):\n",
        "        if super().__len__() != 0: #checking route has some length\n",
        "            self.distance += super().__getitem__(-1) >> city #finding distance between cities\n",
        "        super().append(city)\n",
        "    \n",
        "    def __getitem__(self, sliced):\n",
        "        return super().__getitem__(sliced)   # to slice out cities\n",
        "    \n",
        "    def __len__(self):\n",
        "        return super().__len__()\n",
        "    \n",
        "    def calculate_fitness(self):\n",
        "        self.fitness = 1 / float(self.distance)\n",
        "\n",
        "def show_map(cities, best_route=None, MAP_HEIGHT=500, MAP_WIDTH=500, file_name=None):\n",
        "    map = np.zeros((MAP_HEIGHT, MAP_WIDTH, 3), np.uint8)\n",
        "    banner = np.ones((50, MAP_WIDTH, 3), np.uint8) * 255\n",
        "    map = np.vstack([map, banner])\n",
        "    for city in cities:\n",
        "        cv2.circle(map, city.coordinate(), 5, (255,0,0), -1)\n",
        "    \n",
        "    if best_route != None: #\n",
        "        for i in range(0, len(best_route) - 1):\n",
        "            cv2.line(map, best_route[i].coordinate(), best_route[i+1].coordinate(), (255,255,255), 2, 0)\n",
        "        cv2.putText(map, 'Distance: {:.1f}'.format(best_route.distance), (0, MAP_HEIGHT+40), cv2.FONT_HERSHEY_SIMPLEX, 1, (0, 255, 0), 2, 1)\n",
        "\n",
        "    if file_name != None:\n",
        "      cv2.imwrite(file_name, map)\n",
        "    cv2_imshow(map)"
      ],
      "execution_count": null,
      "outputs": []
    },
    {
      "cell_type": "code",
      "metadata": {
        "colab": {
          "base_uri": "https://localhost:8080/"
        },
        "id": "TYrceeN38vZD",
        "outputId": "257316fb-a722-4119-83fa-7cbfafb5b7ef"
      },
      "source": [
        "route = Route([city1, city2, city3])\n",
        "print(route)"
      ],
      "execution_count": null,
      "outputs": [
        {
          "output_type": "stream",
          "text": [
            "[(0,0), (10,10), (5,20)]\n"
          ],
          "name": "stdout"
        }
      ]
    },
    {
      "cell_type": "code",
      "metadata": {
        "colab": {
          "base_uri": "https://localhost:8080/"
        },
        "id": "UUklfBCc81G_",
        "outputId": "62c414d2-4509-4032-cf12-7fcfed72cd64"
      },
      "source": [
        "print('Total distance of route: ', route.distance)"
      ],
      "execution_count": null,
      "outputs": [
        {
          "output_type": "stream",
          "text": [
            "Total distance of route:  25.3224755112299\n"
          ],
          "name": "stdout"
        }
      ]
    },
    {
      "cell_type": "code",
      "metadata": {
        "colab": {
          "base_uri": "https://localhost:8080/"
        },
        "id": "gU9_8SBx9AXV",
        "outputId": "823bd9ce-3826-41c8-f1be-ebe5793edadd"
      },
      "source": [
        "# calculate fitness of route\n",
        "route.calculate_fitness()\n",
        "print('Fitness of route: ', route.fitness)"
      ],
      "execution_count": null,
      "outputs": [
        {
          "output_type": "stream",
          "text": [
            "Fitness of route:  0.03949060981642669\n"
          ],
          "name": "stdout"
        }
      ]
    },
    {
      "cell_type": "code",
      "metadata": {
        "id": "61wF02ho7_jY"
      },
      "source": [
        "GENERATION_SIZE = 500\n",
        " \n",
        "# function to create random generation (random routes)\n",
        "def first_generation(cities):\n",
        "    generation = []\n",
        "    for i in range(0, GENERATION_SIZE):\n",
        "        # generating random route (random combination of cities)\n",
        "        route_list = random.sample(cities, len(cities))\n",
        "        route = Route(route_list)\n",
        "        # after creating route we need to calculate fitness of the route. It will automatically be stored in route\n",
        "        route.calculate_fitness()\n",
        "        generation.append(route)\n",
        "    \n",
        "    return generation\n",
        "new_generation = first_generation(cities)"
      ],
      "execution_count": null,
      "outputs": []
    },
    {
      "cell_type": "markdown",
      "metadata": {
        "id": "UqF8fO69KHdN"
      },
      "source": [
        "# Finding best route in current generation"
      ]
    },
    {
      "cell_type": "code",
      "metadata": {
        "id": "KFFomPMZ8z2Y"
      },
      "source": [
        "# function to find best route from generation (best route will have highest fitness)\n",
        "def get_best_route(generation):\n",
        "    best_fitness = -1\n",
        "    best_route = None\n",
        "    for route in generation:\n",
        "        if best_fitness < route.fitness:\n",
        "            best_fitness = route.fitness\n",
        "            best_route = route\n",
        "    return best_route\n",
        "current_best_route = get_best_route(new_generation)"
      ],
      "execution_count": null,
      "outputs": []
    },
    {
      "cell_type": "code",
      "metadata": {
        "colab": {
          "base_uri": "https://localhost:8080/"
        },
        "id": "CkTZKilB_9H5",
        "outputId": "0fcbbd42-3668-467e-84d3-9cd3c2e266ab"
      },
      "source": [
        "print('Fitness of current best route: ',current_best_route.fitness)\n",
        "print('Total distance of current best route: ',current_best_route.distance)"
      ],
      "execution_count": null,
      "outputs": [
        {
          "output_type": "stream",
          "text": [
            "Fitness of current best route:  0.00020427976232340636\n",
            "Total distance of current best route:  4895.247520490287\n"
          ],
          "name": "stdout"
        }
      ]
    },
    {
      "cell_type": "code",
      "metadata": {
        "id": "RdpA-OAL88aZ"
      },
      "source": [
        "show_map(cities, MAP_HEIGHT = MAP_HEIGHT, MAP_WIDTH = MAP_WIDTH, best_route = current_best_route) "
      ],
      "execution_count": null,
      "outputs": []
    },
    {
      "cell_type": "markdown",
      "metadata": {
        "id": "Y1v_HaDaKTiX"
      },
      "source": [
        "# Genetic Algorithm"
      ]
    },
    {
      "cell_type": "markdown",
      "metadata": {
        "id": "RZLULUzHKLfI"
      },
      "source": [
        "## Selection (Tournament) "
      ]
    },
    {
      "cell_type": "code",
      "metadata": {
        "id": "JD8NNASG9CLh"
      },
      "source": [
        "# function to sort routes based on their fitness score\n",
        "def rank_generation(generation):\n",
        "    return sorted(generation, key=operator.attrgetter('fitness'), reverse=True)"
      ],
      "execution_count": null,
      "outputs": []
    },
    {
      "cell_type": "code",
      "metadata": {
        "id": "ZQqkNMn5_oPt"
      },
      "source": [
        "500\n",
        "elite = 50\n",
        "rem = 450 -- rank them\n"
      ],
      "execution_count": null,
      "outputs": []
    },
    {
      "cell_type": "code",
      "metadata": {
        "id": "GD8OIvc_BQr3"
      },
      "source": [
        "ELITE_SIZE = 50\n",
        "TOURNAMENT_SIZE = 5\n",
        "\n",
        "# function to select best routes from generation\n",
        "# fittest will survive, else will die\n",
        "def select_generation(ranked_generation):\n",
        "    selected = [ranked_generation[i] for i in range(ELITE_SIZE)]\n",
        "    \n",
        "    for i in range(len(ranked_generation) - ELITE_SIZE):\n",
        "        # select random 'k' for tournament\n",
        "        random_k = random.sample(ranked_generation, TOURNAMENT_SIZE) \n",
        "        # select best among 'k'\n",
        "        won = max(random_k, key=operator.attrgetter('fitness'))\n",
        "        selected.append(won)\n",
        "    return selected"
      ],
      "execution_count": 34,
      "outputs": []
    },
    {
      "cell_type": "markdown",
      "metadata": {
        "id": "vYtpqTzOKPkn"
      },
      "source": [
        "## Crossover"
      ]
    },
    {
      "cell_type": "code",
      "metadata": {
        "id": "OjEwoygtB2JI"
      },
      "source": [
        "# function to mate two routes (parents) and generate two children\n",
        "def mate(parent1, parent2):\n",
        "    i = random.randint(0, len(parent1)-1)\n",
        "    j = random.randint(0, len(parent1)-1)\n",
        "    min_index = min([i, j])\n",
        "    max_index = max([i, j])\n",
        "    \n",
        "    parent1_gene = parent1[min_index:max_index]\n",
        "    parent2_gene = parent1[min_index:max_index]\n",
        "\n",
        "    child_one = []\n",
        "    child_one.extend(parent2_gene)\n",
        "    child_one.extend([city for city in parent1 if city not in parent2_gene])\n",
        "    \n",
        "    child_two = []\n",
        "    child_two.extend(parent1_gene)\n",
        "    child_two.extend([city for city in parent2 if city not in parent1_gene])\n",
        "    \n",
        "    child_one = Route(child_one)\n",
        "    child_one.calculate_fitness()\n",
        "    child_two = Route(child_two)\n",
        "    child_two.calculate_fitness()    \n",
        "    return [child_one, child_two]    \n",
        "\n",
        "# function to perform crossover over whole generation \n",
        "# base function to call mate function\n",
        "def crossover(selection):\n",
        "    random.shuffle(selection)\n",
        "    new_generation = []\n",
        "    for i in range(0, GENERATION_SIZE, 2):\n",
        "        children = mate(selection[i], selection[i+1])\n",
        "        new_generation.extend(children)\n",
        "    return new_generation"
      ],
      "execution_count": null,
      "outputs": []
    },
    {
      "cell_type": "markdown",
      "metadata": {
        "id": "Ls7pZbJMKRvc"
      },
      "source": [
        "## Mutation"
      ]
    },
    {
      "cell_type": "code",
      "metadata": {
        "id": "2tPJVqocCIeP"
      },
      "source": [
        "MUTATION_RATE = 0.01\n",
        "\n",
        "# function to mutate individual route\n",
        "def mutate_individual(individual):\n",
        "    for i in range(len(individual)):\n",
        "        if random.random() < MUTATION_RATE:\n",
        "            # perform mutation if random value is smaller than MUTATION_RATE\n",
        "            random_j = random.randint(0, len(individual)-1)\n",
        "            # swap cities in route\n",
        "            city = individual[i]\n",
        "            individual[i] = individual[random_j]\n",
        "            individual[random_j] = city\n",
        "    return individual\n",
        "\n",
        "# function to perform mutation in whole generation\n",
        "# base bunction to call mutate_individual\n",
        "def mutation(crossovered):\n",
        "    mutated = []\n",
        "    for individual in crossovered:\n",
        "        mutated.append(mutate_individual(individual))\n",
        "    return mutated"
      ],
      "execution_count": null,
      "outputs": []
    },
    {
      "cell_type": "code",
      "metadata": {
        "id": "iDPMg4NRCgfR"
      },
      "source": [
        "# funtion to generate new generation by \n",
        "# 1. ranking routes\n",
        "# 2. selecting fittest route for mating\n",
        "# 3. Performing crossover (mating)\n",
        "# 4. Perform mutaion\n",
        "\n",
        "def next_generation(current_generation):\n",
        "    ranked_generation = rank_generation(current_generation)\n",
        "    selection = select_generation(ranked_generation)\n",
        "    crossovered = crossover(selection)\n",
        "    mutated = mutation(crossovered)\n",
        "    return mutated"
      ],
      "execution_count": null,
      "outputs": []
    },
    {
      "cell_type": "markdown",
      "metadata": {
        "id": "PpjQv6XSDbcM"
      },
      "source": [
        "# Final"
      ]
    },
    {
      "cell_type": "code",
      "metadata": {
        "id": "3g3EOhSJKxMN"
      },
      "source": [
        "# Change parameters (if you want)\n",
        "\n",
        "MAX_CITIES = 30\n",
        "MAP_HEIGHT, MAP_WIDTH = 500, 500\n",
        "\n",
        "GENERATION_SIZE = 500\n",
        "GENERATIONS = 300\n",
        "ELITE_SIZE = 50\n",
        "TOURNAMENT_SIZE = 5\n",
        "MUTATION_RATE = 0.01"
      ],
      "execution_count": null,
      "outputs": []
    },
    {
      "cell_type": "code",
      "metadata": {
        "id": "c4aqpdVJGLRu"
      },
      "source": [
        "from google.colab import output\n",
        "from tqdm.notebook import tqdm"
      ],
      "execution_count": null,
      "outputs": []
    },
    {
      "cell_type": "code",
      "metadata": {
        "colab": {
          "base_uri": "https://localhost:8080/",
          "height": 66,
          "referenced_widgets": [
            "8cb2173ee7004e49a180a5446f64da5f",
            "676ea741ab6743d1888fac0079280070",
            "0f466adb3c9c40e9aa91dbb4d377446d",
            "af21ba98ed2d430481a4be9ff283f167",
            "fac7403b36274a1f9f36f1580bf24632",
            "4f0df5fbf3584fd7bd36f2918ebe083f",
            "cd43d514ee8f4484a6e6bc14b316bf1b",
            "03e6e5c3df23450d8532f1a2e63a184a"
          ]
        },
        "id": "OcdkH1uEC_JH",
        "outputId": "621a7226-60e8-49a5-9499-68056b7443e0"
      },
      "source": [
        "cities = generate_cities()\n",
        "new_generation = first_generation(cities)\n",
        "current_best_route = get_best_route(new_generation)\n",
        "#show_map(cities, MAP_HEIGHT=MAP_HEIGHT, MAP_WIDTH=MAP_WIDTH, best_route=current_best_route, file_name='initial.jpg') \n",
        "#output.clear()\n",
        "\n",
        "best_route = current_best_route\n",
        "for i in tqdm(range(GENERATIONS), desc = 'Searching suitable solution: '):\n",
        "    new_generation = next_generation(new_generation) \n",
        "    current_best_route = get_best_route(new_generation)\n",
        "    if current_best_route.fitness > best_route.fitness:\n",
        "      best_route = current_best_route"
      ],
      "execution_count": 35,
      "outputs": [
        {
          "output_type": "display_data",
          "data": {
            "application/vnd.jupyter.widget-view+json": {
              "model_id": "8cb2173ee7004e49a180a5446f64da5f",
              "version_minor": 0,
              "version_major": 2
            },
            "text/plain": [
              "HBox(children=(FloatProgress(value=0.0, description='Searching suitable solution: ', max=300.0, style=Progress…"
            ]
          },
          "metadata": {
            "tags": []
          }
        },
        {
          "output_type": "stream",
          "text": [
            "\n"
          ],
          "name": "stdout"
        }
      ]
    },
    {
      "cell_type": "code",
      "metadata": {
        "colab": {
          "base_uri": "https://localhost:8080/",
          "height": 567
        },
        "id": "yviptEqOGFRg",
        "outputId": "eb2367ff-2de7-4a07-ec3a-c8ca29d08bbd"
      },
      "source": [
        "show_map(cities, MAP_HEIGHT=MAP_HEIGHT, MAP_WIDTH=MAP_WIDTH, best_route=best_route, file_name='best.jpg') "
      ],
      "execution_count": 36,
      "outputs": [
        {
          "output_type": "display_data",
          "data": {
            "image/png": "[encoded data removed]",
            "text/plain": [
              "<PIL.Image.Image image mode=RGB size=500x550 at 0x7FCAEBA16A10>"
            ]
          },
          "metadata": {
            "tags": []
          }
        }
      ]
    },
    {
      "cell_type": "code",
      "metadata": {
        "id": "5yHzc5DN5BqZ"
      },
      "source": [
        "Code - https://colab.research.google.com/drive/1edK5fmjk7tFXGgiui6kaxdHEB_dFgZ0i?usp=sharing\n",
        "Notebook - https://drive.google.com/file/d/1IrW36MxxuWnhZwPcGh1SPZqpcmefpFss/view?usp=sharing\n",
        "Feedback Link: https://www.techlearn.live/feedback?scheduleId=610cde0c9adcefd27f12d599 \n",
        "\n",
        "our instagram 👉\n",
        "http://bit.ly/techlearnlive\n",
        "\n",
        "our telegram 👉\n",
        "https://bit.ly/3dYUcDI"
      ],
      "execution_count": null,
      "outputs": []
    },
    {
      "cell_type": "code",
      "metadata": {
        "id": "wlQgNFBv5Bnt"
      },
      "source": [
        ""
      ],
      "execution_count": null,
      "outputs": []
    },
    {
      "cell_type": "code",
      "metadata": {
        "id": "PjN3ASGU5BkZ"
      },
      "source": [
        ""
      ],
      "execution_count": null,
      "outputs": []
    },
    {
      "cell_type": "code",
      "metadata": {
        "id": "awMKAiIn5Biy"
      },
      "source": [
        ""
      ],
      "execution_count": null,
      "outputs": []
    },
    {
      "cell_type": "code",
      "metadata": {
        "colab": {
          "base_uri": "https://localhost:8080/",
          "height": 567
        },
        "id": "Fn6sB3AsIVz_",
        "outputId": "35498c06-073f-4c51-9d0b-46c792a9fdb2"
      },
      "source": [
        "import cv2\n",
        "from google.colab.patches import cv2_imshow\n",
        "initial = cv2.imread('initial.jpg')\n",
        "line = np.ones((initial.shape[0], 10, 3)) * 255\n",
        "best = cv2.imread('best.jpg')\n",
        "image = np.hstack([initial, line, best])\n",
        "cv2_imshow(image)"
      ],
      "execution_count": null,
      "outputs": [
        {
          "output_type": "display_data",
          "data": {
            "image/png": "[encoded data removed]",
            "text/plain": [
              "<PIL.Image.Image image mode=RGB size=1010x550 at 0x7FA287765DD0>"
            ]
          },
          "metadata": {
            "tags": []
          }
        }
      ]
    }
  ]
}